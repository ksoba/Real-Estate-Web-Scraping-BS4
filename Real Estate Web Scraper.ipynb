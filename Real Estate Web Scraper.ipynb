{
 "cells": [
  {
   "cell_type": "markdown",
   "id": "other-flood",
   "metadata": {},
   "source": [
    "# Real Estate Web Scraper + Analysis"
   ]
  },
  {
   "cell_type": "code",
   "execution_count": 86,
   "id": "covered-favor",
   "metadata": {},
   "outputs": [],
   "source": [
    "#Import Libraries\n",
    "import seaborn as sns\n",
    "from bs4 import BeautifulSoup as bs\n",
    "import requests as req\n",
    "import pandas as pd\n",
    "import matplotlib.pyplot as plt\n",
    "import numpy as np"
   ]
  },
  {
   "cell_type": "code",
   "execution_count": 87,
   "id": "treated-creature",
   "metadata": {},
   "outputs": [
    {
     "name": "stdout",
     "output_type": "stream",
     "text": [
      "<Response [200]>\n"
     ]
    }
   ],
   "source": [
    "#Get Website Test\n",
    "url = \"https://www.zillow.com/homes/portland_rb/\"\n",
    "headers = {\n",
    "    \"accept\" : \"text/html,application/xhtml+xml,application/xml;q=0.9,image/avif,image/webp,image/apng,*/*;q=0.8,application/signed-exchange;v=b3;q=0.9\",\n",
    "    \"accept-encoding\" : \"gzip, deflate, br\",\n",
    "    \"accept-language\" : \"en-US,en;q=0.9,zh-CN;q=0.8,zh;q=0.7\",\n",
    "    \"cache-control\" : \"max-age=0\",\n",
    "    \"cookie\" : \"zguid=23|%24b4ab2df0-3bb3-44ac-a981-89b62daa7fc4; zgsession=1|aa2c1bc9-221c-42f8-9859-a5d81b022eb4; JSESSIONID=5895583B033EEF332472C82DEE9B70B2; AWSALB=suPHp9uUD3gAqtTrIL5gKua+XpLfpop9xujH1akhjiGgkG/QPpfxq9Ixj6u+QpjuzcmQuAq3+Jd4ERskwGx2MBqZMzPdtGKJJNsnn51TdPrCI58Uhesx8sark2e+; AWSALBCORS=suPHp9uUD3gAqtTrIL5gKua+XpLfpop9xujH1akhjiGgkG/QPpfxq9Ixj6u+QpjuzcmQuAq3+Jd4ERskwGx2MBqZMzPdtGKJJNsnn51TdPrCI58Uhesx8sark2e+; search=6|1618098527958%7Crect%3D45.74788083645929%252C-122.07473755116189%252C45.36227732844171%252C-123.31665044883812%26rid%3D13373%26disp%3Dmap%26mdm%3Dauto%26p%3D1%26sort%3Ddays%26z%3D1%26pt%3Dpmf%252Cpf%26fs%3D1%26fr%3D0%26mmm%3D1%26rs%3D0%26ah%3D0%26singlestory%3D0%26housing-connector%3D0%26abo%3D0%26garage%3D0%26pool%3D0%26ac%3D0%26waterfront%3D0%26finished%3D0%26unfinished%3D0%26cityview%3D0%26mountainview%3D0%26parkview%3D0%26waterview%3D0%26hoadata%3D1%26zillow-owned%3D0%263dhome%3D0%09%0913373%09%09%09%09%09%09\",\n",
    "    \"dnt\" : \"1\",\n",
    "    \"referer\" : \"https://www.zillow.com/portland-or/?searchQueryState=%7B%22pagination%22%3A%7B%7D%2C%22usersSearchTerm%22%3A%22portland%22%2C%22mapBounds%22%3A%7B%22west%22%3A-123.31665044883812%2C%22east%22%3A-122.07473755116189%2C%22south%22%3A45.36549357894722%2C%22north%22%3A45.744686397426456%7D%2C%22regionSelection%22%3A%5B%7B%22regionId%22%3A13373%2C%22regionType%22%3A6%7D%5D%2C%22isMapVisible%22%3Atrue%2C%22filterState%22%3A%7B%22ah%22%3A%7B%22value%22%3Atrue%7D%7D%2C%22isListVisible%22%3Atrue%7D\",\n",
    "    \"sec-fetch-dest\" : \"document\",\n",
    "    \"sec-fetch-mode\" : \"navigate\",\n",
    "    \"sec-fetch-site\" : \"same-origin\",\n",
    "    \"sec-fetch-user\" : \"?1\",\n",
    "    \"upgrade-insecure-requests\" : \"1\",\n",
    "    \"user-agent\" : \"Mozilla/5.0 (Windows NT 10.0; Win64; x64) AppleWebKit/537.36 (KHTML, like Gecko) Chrome/88.0.4324.190 Safari/537.36\"                          \n",
    "}\n",
    "\n",
    "params = {\n",
    "    \"searchQueryState\" : '{\"pagination\":{\"currentPage\": 1},\"usersSearchTerm\":\"portland\",\"mapBounds\":{\"west\":-123.93852236914063,\"east\":-121.45286563085938,\"south\":45.357452602478155,\"north\":45.75267215956587},\"regionSelection\":[{\"regionId\":13373,\"regionType\":6}],\"isMapVisible\":true,\"filterState\":{\"ah\":{\"value\":true}},\"isListVisible\":true}'\n",
    "}\n",
    "response = req.get(url, headers = headers, params = params)\n",
    "#Request test\n",
    "print(response)\n",
    "\n"
   ]
  },
  {
   "cell_type": "code",
   "execution_count": 89,
   "id": "bibliographic-collector",
   "metadata": {},
   "outputs": [],
   "source": [
    "#Create Beautiful Soup Object\n",
    "soup = bs(response.content, 'html.parser')\n",
    "\n",
    "#Test print beautiful soup\n",
    "#print(soup)       "
   ]
  },
  {
   "cell_type": "code",
   "execution_count": 104,
   "id": "subtle-character",
   "metadata": {},
   "outputs": [],
   "source": [
    "#Grab deck containing all listings on the page\n",
    "#deck = soup.find(attrs = {\"class\" : \"photo-cards photo-cards_wow photo-cards_short photo-cards_extra-attribution\"})\n",
    "#print(deck)"
   ]
  },
  {
   "cell_type": "code",
   "execution_count": 105,
   "id": "legendary-watts",
   "metadata": {},
   "outputs": [
    {
     "name": "stdout",
     "output_type": "stream",
     "text": [
      "13678 NW Trevino St, Portland, OR 97229THE ALPINE GROUP, INC.$719,0004 bds3 ba2,718 sqft- Active\n",
      "9406 SW 62nd Dr, Portland, OR 97219DWELL REALTY$989,9009 bds4 ba6,304 sqft- Active\n",
      "1420 NW Lovejoy St APT 533, Portland, OR 97209URBAN PACIFIC REAL ESTATE$409,9002 bds1 ba713 sqft- Active\n",
      "13829 SE Claybourne St, Portland, OR 97236WINDERMERE REALTY TRUST$411,9003 bds3 ba1,518 sqft- Active\n",
      "1500 SW 11th Ave UNIT 904, Portland, OR 97201HIGHRISES.COM$385,0001 bd2 ba725 sqft- Active\n",
      "8016 SW 61st Ave, Portland, OR 97219OREGON FIRST$559,0004 bds2 ba1,886 sqft- Active\n",
      "3316 NE 11th Ave, Portland, OR 97212RE/MAX EQUITY GROUP$599,0003 bds1 ba1,762 sqft- Active\n",
      "1814 SW Iowa St #2, Portland, OR 97239WINDERMERE REALTY TRUST$495,0003 bds4 ba1,395 sqft- Active\n",
      "5142 SW Multnomah Blvd APT C, Portland, OR 97219KELLER WILLIAMS REALTY PROFESSIONALS$249,9002 bds2 ba984 sqft- Active\n",
      "615 NE 157th Ave, Portland, OR 97230MATIN REAL ESTATE$449,9005 bds2 ba1,892 sqft- Active\n",
      "1075 NW Northrup St UNIT 218, Portland, OR 97209WINDERMERE REALTY TRUST$559,0001 bd1 ba943 sqft- Active\n",
      "3708 SW 50th Ave, Portland, OR 97221MATIN REAL ESTATE$1,095,0004 bds3 ba2,440 sqft- Active\n",
      "4232 SW Carson St, Portland, OR 97219MATIN REAL ESTATE$539,9002 bds2 ba1,738 sqft- Active\n",
      "4028 NE 41st Ave, Portland, OR 97212BRAD DAVIS PROPERTIES, INC.$759,0004 bds3 ba2,356 sqft- Active\n",
      "15 S Iowa St, Portland, OR 97239WINDERMERE REALTY TRUST$799,9004 bds3 ba2,205 sqft- Active\n",
      "1130 NW 12th Ave APT 402, Portland, OR 97209WINDERMERE REALTY TRUST$695,0002 bds2 ba1,460 sqft- Active\n",
      "1500 SW Park Ave APT 332, Portland, OR 97201REDFIN$250,0001 bd1 ba482 sqft- Active\n",
      "1316 NE 112th Ave, Portland, OR 97220KELLER WILLIAMS REALTY PORTLAND PREMIERE$475,0003 bds3 ba2,336 sqft- Active\n",
      "5309 NE 20th Ave, Portland, OR 97211WINDERMERE REALTY TRUST$575,0003 bds2 ba2,538 sqft- Active\n",
      "9342 N Wall Ave, Portland, OR 97203ERA FREEMAN & ASSOCIATES$550,0004 bds2 ba2,190 sqft- Active\n",
      "317 SE 90th Ave, Portland, OR 97216KELLER WILLIAMS REALTY PROFESSIONALS$335,0003 bds2 ba1,180 sqft- Active\n",
      "4427 N Willis Blvd, Portland, OR 97203LIVING ROOM REALTY$449,9002 bds1 ba1,462 sqft- Active\n",
      "14426 NE Glisan St, Portland, OR 97230OREGON FIRST$329,9002 bds1 ba984 sqft- Active\n",
      "8440 SE 65th Ave, Portland, OR 97206COLDWELL BANKER BAIN$385,0003 bds2 ba1,343 sqft- Active\n",
      "7037 NE Prescott St, Portland, OR 97218KELLER WILLIAMS REALTY PORTLAND PREMIERE$569,9004 bds2 ba2,572 sqft- Active\n",
      "3235 NE 45th Ave, Portland, OR 97213KELLER WILLIAMS REALTY PROFESSIONALS$495,0002 bds1 ba1,906 sqft- Active\n",
      "618 NW 12th Ave APT 413, Portland, OR 97209WINDERMERE REALTY TRUST$375,0001 bd1 ba740 sqft- Active\n",
      "4313 SE Division St UNIT D, Portland, OR 97206PORTLAND WORKS REAL ESTATE$299,0002 bds3 ba687 sqft- Active\n",
      "5625 SW Wilbard St, Portland, OR 97219KELLER WILLIAMS SUNSET CORRIDOR$700,0003 bds2 ba2,810 sqft- Active\n",
      "1429 SE Boise St, Portland, OR 97202ANGELL REALTY$475,0003 bds2 ba1,008 sqft- Active\n",
      "4067 NE 23rd Ave, Portland, OR 97212COLDWELL BANKER BAIN$720,0003 bds2 ba2,845 sqft- Active\n",
      "3404 SW Water Ave, Portland, OR 97239THE HASSON COMPANY$685,0002 bds2 ba2,237 sqft- Active\n",
      "2629 N Killingsworth St, Portland, OR 97217THE AGENCY, INC$450,0003 bds3 ba1,552 sqft- Active\n",
      "7128 N Buchanan Ave, Portland, OR 97203FARRELL REALTY & PROPERTY MANAGEMENT$659,9005 bds3 ba3,999 sqft- Active\n",
      "6924 NE Alameda St, Portland, OR 97213RE/MAX EQUITY GROUP$689,9004 bds2 ba3,089 sqft- Active\n",
      "2222 NW Ramsey Dr, Portland, OR 97229WHERE, INC$874,0003 bds3 ba3,867 sqft- Active\n",
      "2726 SW Leah Ct, Portland, OR 97219PREMIERE PROPERTY GROUP, LLC$769,9005 bds3 ba2,688 sqft- Active\n",
      "8816 NE Broadway St, Portland, OR 97220MORE REALTY$449,0003 bds2 ba1,922 sqft- Active\n",
      "5411 SW Dolph Dr, Portland, OR 97219PREMIERE PROPERTY GROUP, LLC$460,0003 bds3 ba2,020 sqft- Active\n",
      "4536 NW 130th Ave, Portland, OR 97229REDFIN$799,9004 bds3 ba2,943 sqft- Active\n"
     ]
    }
   ],
   "source": [
    "listing_data = []\n",
    "for card in soup.select(\".list-card-info\"):\n",
    "    data = card.get_text()\n",
    "    listing_data.append(data)\n",
    "    print(data)\n",
    "#print(listing_data)\n",
    "#print(len(listing_data))"
   ]
  },
  {
   "cell_type": "code",
   "execution_count": null,
   "id": "headed-assignment",
   "metadata": {},
   "outputs": [],
   "source": []
  }
 ],
 "metadata": {
  "kernelspec": {
   "display_name": "Python 3",
   "language": "python",
   "name": "python3"
  },
  "language_info": {
   "codemirror_mode": {
    "name": "ipython",
    "version": 3
   },
   "file_extension": ".py",
   "mimetype": "text/x-python",
   "name": "python",
   "nbconvert_exporter": "python",
   "pygments_lexer": "ipython3",
   "version": "3.7.8"
  }
 },
 "nbformat": 4,
 "nbformat_minor": 5
}
