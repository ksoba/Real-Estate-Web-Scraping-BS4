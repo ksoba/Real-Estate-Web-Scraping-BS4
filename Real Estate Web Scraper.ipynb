{
 "cells": [
  {
   "cell_type": "markdown",
   "id": "other-flood",
   "metadata": {},
   "source": [
    "# Real Estate Web Scraper + Analysis"
   ]
  },
  {
   "cell_type": "code",
   "execution_count": 27,
   "id": "covered-favor",
   "metadata": {},
   "outputs": [],
   "source": [
    "#Import Libraries\n",
    "import seaborn as sns\n",
    "from bs4 import BeautifulSoup as bs\n",
    "import requests as req\n",
    "import pandas as pd\n",
    "import matplotlib.pyplot as plt\n",
    "import numpy as np\n",
    "import time"
   ]
  },
  {
   "cell_type": "code",
   "execution_count": 29,
   "id": "treated-creature",
   "metadata": {},
   "outputs": [
    {
     "output_type": "error",
     "ename": "SyntaxError",
     "evalue": "invalid syntax (<ipython-input-29-8bc31c5ee2db>, line 12)",
     "traceback": [
      "\u001b[1;36m  File \u001b[1;32m\"<ipython-input-29-8bc31c5ee2db>\"\u001b[1;36m, line \u001b[1;32m12\u001b[0m\n\u001b[1;33m    \"sec-ch-ua\" : \"Google Chrome\";v=\"89\", \"Chromium\";v=\"89\", \";Not A Brand\";v=\"99\",\u001b[0m\n\u001b[1;37m                ^\u001b[0m\n\u001b[1;31mSyntaxError\u001b[0m\u001b[1;31m:\u001b[0m invalid syntax\n"
     ]
    }
   ],
   "source": [
    "#Get Website Test\n",
    "url = \"https://www.zillow.com/homes/portland_rb/\"\n",
    "headers = {\n",
    "\n",
    "\"accept\" : \"text/html,application/xhtml+xml,application/xml;q=0.9,image/avif,image/webp,image/apng,*/*;q=0.8,application/signed-exchange;v=b3;q=0.9\",\n",
    "\"accept-encoding\" : \"gzip, deflate, br\",\n",
    "\"accept-language\" : \"en-US,en;q=0.9,zh-CN;q=0.8,zh;q=0.7\",\n",
    "\"cache-control\" : \"max-age=0\",\n",
    "\"cookie\" : \"zguid=23|%24aa4cc1d3-f84f-425f-a130-150bd9ec1831; zgsession=1|447f1a80-c78b-4218-9058-be820da4b176; JSESSIONID=1BD2CE78B29149CBEC5625163DCAAA8D; _px3=edec56db0db7cdf85bd9cebb1fd42e33ca3103f299258fb2c786e9d53e04fd1d:6sWCC5nFGDujjSXSBhEhZ8G6nRrFDmjnQnW7tAht1EMrJaYdwvdIUH7Il9nb8cenepTQShcN+d4X8OXCvmCAYQ==:1000:YyppE+tynJumhj7TN3jRAYrybEZj2vlEDUFFGMKKR/XQ+B/hR5X6F7/MzIMR+tt9pPTn1THtiZLpfRkluMY/82mpWzcD75MEyYG0BXhJq1jYnSSZyoB5xY9shJUGnAM5G8qxbZPVaWmvKpZiT51WPZG4AI4Jf5e2B02kIcyBrjs=; AWSALB=cQo2XGlFNl04bdLVn/4Vd1rtX+BwGRIBn3YJxUr//flyJejIuRLA48SGQ9wE8bzwKVerHelCLVYFig/a2BdvBMbN0tanQ9ml7eucUEJgnHl0IqkoCPGZLyQ9KMU0; AWSALBCORS=cQo2XGlFNl04bdLVn/4Vd1rtX+BwGRIBn3YJxUr//flyJejIuRLA48SGQ9wE8bzwKVerHelCLVYFig/a2BdvBMbN0tanQ9ml7eucUEJgnHl0IqkoCPGZLyQ9KMU0; search=6|1618197547074%7Crect%3D45.828200862028396%252C-122.25646976382086%252C45.25350063769155%252C-123.07449347340116%26rid%3D13373%26disp%3Dmap%26mdm%3Dauto%26p%3D1%26sort%3Ddays%26z%3D1%26pt%3Dpmf%252Cpf%26fs%3D1%26fr%3D0%26mmm%3D1%26rs%3D0%26ah%3D0%26singlestory%3D0%26housing-connector%3D0%26abo%3D0%26garage%3D0%26pool%3D0%26ac%3D0%26waterfront%3D0%26finished%3D0%26unfinished%3D0%26cityview%3D0%26mountainview%3D0%26parkview%3D0%26waterview%3D0%26hoadata%3D1%26zillow-owned%3D0%263dhome%3D0%09%0913373%09%09%09%09%09%09\",\n",
    "\"dnt\" : \"1\",\n",
    "\"referer\" : \"https://www.zillow.com/portland-or/?searchQueryState=%7B%22pagination%22%3A%7B%7D%2C%22usersSearchTerm%22%3A%22portland%22%2C%22mapBounds%22%3A%7B%22west%22%3A-122.97595984303007%2C%22east%22%3A-122.35500339419195%2C%22south%22%3A45.255917480028245%2C%22north%22%3A45.82580849593376%7D%2C%22mapZoom%22%3A11%2C%22regionSelection%22%3A%5B%7B%22regionId%22%3A13373%2C%22regionType%22%3A6%7D%5D%2C%22isMapVisible%22%3Atrue%2C%22filterState%22%3A%7B%22ah%22%3A%7B%22value%22%3Atrue%7D%7D%2C%22isListVisible%22%3Atrue%7D\"\n",
    "\"sec-ch-ua\" : \"Google Chrome\";v=\"89\", \"Chromium\";v=\"89\", \";Not A Brand\";v=\"99\",\n",
    "\"sec-ch-ua-mobile\": \"?0\",\n",
    "\"sec-fetch-dest\" : \"document\",\n",
    "\"sec-fetch-mode\" : \"navigate\",\n",
    "\"sec-fetch-site\" : \"same-origin\",\n",
    "\"sec-fetch-user\" : \"?1\",\n",
    "\"upgrade-insecure-requests\" : \"1\",\n",
    "\"user-agent\" : \"Mozilla/5.0 (Windows NT 10.0; Win64; x64) AppleWebKit/537.36 (KHTML, like Gecko\"\n",
    "\n",
    "'''\n",
    "    \"accept\" : \"text/html,application/xhtml+xml,application/xml;q=0.9,image/avif,image/webp,image/apng,*/*;q=0.8,application/signed-exchange;v=b3;q=0.9\",\n",
    "    \"accept-encoding\" : \"gzip, deflate, br\",\n",
    "    \"accept-language\" : \"en-US,en;q=0.9,zh-CN;q=0.8,zh;q=0.7\",\n",
    "    \"cache-control\" : \"max-age=0\",\n",
    "    \"cookie\" : \"zguid=23|$aa4cc1d3-f84f-425f-a130-150bd9ec1831; zgsession=1|447f1a80-c78b-4218-9058-be820da4b176; JSESSIONID=1BD2CE78B29149CBEC5625163DCAAA8D; search=6|1618197194177|rect=45.65592797133395%2C-122.56270408630371%2C45.51236185397977%2C-122.87341117858887&rid=13373&disp=map&mdm=auto&p=1&sort=days&z=1&pt=pmf%2Cpf&fs=1&fr=0&mmm=1&rs=0&ah=0&singlestory=0&housing-connector=0&abo=0&garage=0&pool=0&ac=0&waterfront=0&finished=0&unfinished=0&cityview=0&mountainview=0&parkview=0&waterview=0&hoadata=1&zillow-owned=0&3dhome=0\t\t13373\t\t\t\t\t\t; AWSALB=GDVTYmPRqC12tZ45N8T3FIPRKgFzB0yqB9h3G9aamhYx3jg67jNFCbqkSNm2YzqhL1Y5CYz5AKZfJmBELOyekGf0JXXnp6sFutW7/MQndA5Lqs9u9XAz358RI7Gn; AWSALBCORS=GDVTYmPRqC12tZ45N8T3FIPRKgFzB0yqB9h3G9aamhYx3jg67jNFCbqkSNm2YzqhL1Y5CYz5AKZfJmBELOyekGf0JXXnp6sFutW7/MQndA5Lqs9u9XAz358RI7Gn; _px3=edec56db0db7cdf85bd9cebb1fd42e33ca3103f299258fb2c786e9d53e04fd1d:6sWCC5nFGDujjSXSBhEhZ8G6nRrFDmjnQnW7tAht1EMrJaYdwvdIUH7Il9nb8cenepTQShcN+d4X8OXCvmCAYQ==:1000:YyppE+tynJumhj7TN3jRAYrybEZj2vlEDUFFGMKKR/XQ+B/hR5X6F7/MzIMR+tt9pPTn1THtiZLpfRkluMY/82mpWzcD75MEyYG0BXhJq1jYnSSZyoB5xY9shJUGnAM5G8qxbZPVaWmvKpZiT51WPZG4AI4Jf5e2B02kIcyBrjs=\",\n",
    "    \"dnt\" : \"1\",\n",
    "    \"referer\" : \"https://www.zillow.com/captchaPerimeterX/?url=/portland-or/?searchQueryState=%7B%22pagination%22%3A%7B%7D%2C%22usersSearchTerm%22%3A%22portland%22%2C%22mapBounds%22%3A%7B%22west%22%3A-122.86998754600609%2C%22east%22%3A-122.46097569121594%2C%22south%22%3A45.39772643961596%2C%22north%22%3A45.68507651698738%7D%2C%22regionSelection%22%3A%5B%7B%22regionId%22%3A13373%2C%22regionType%22%3A6%7D%5D%2C%22isMapVisible%22%3Atrue%2C%22filterState%22%3A%7B%22ah%22%3A%7B%22value%22%3Atrue%7D%7D%2C%22isListVisible%22%3Atrue%2C%22mapZoom%22%3A12%7D&uuid=9c2cbec0-83a6-11eb-8986-a9f598ca9af9&vid=a61e9a1c-83a6-11eb-bcae-0242ac120006\",\n",
    "    \"sec-fetch-dest\" : \"document\",\n",
    "    \"sec-fetch-mode\" : \"navigate\",\n",
    "    \"sec-fetch-site\" : \"same-origin\",\n",
    "    \"sec-fetch-user\" : \"?1\",\n",
    "    \"upgrade-insecure-requests\" : \"1\",\n",
    "    \"user-agent\" : \"Mozilla/5.0 (Windows NT 10.0; Win64; x64) AppleWebKit/537.36 (KHTML, like Gecko) Chrome/88.0.4324.190 Safari/537.36\"                          \n",
    "\n",
    "'''\n",
    "}\n",
    "\n",
    "params = {\n",
    "    '{\"pagination\":{\"cuurentPage\": 1},\"usersSearchTerm\":\"portland\",\"mapBounds\":{\"west\":-123.07449347340116,\"east\":-122.25646976382086,\"south\":45.25350063769155,\"north\":45.828200862028396},\"mapZoom\":11,\"regionSelection\":[{\"regionId\":13373,\"regionType\":6}],\"isMapVisible\":true,\"filterState\":{\"ah\":{\"value\":true}},\"isListVisible\":true}'\n",
    "}\n",
    "response = req.get(url, headers = headers, params = params)\n",
    "#Request test\n",
    "print(response)\n",
    "\n"
   ]
  },
  {
   "cell_type": "code",
   "execution_count": 9,
   "id": "bibliographic-collector",
   "metadata": {},
   "outputs": [
    {
     "output_type": "stream",
     "name": "stdout",
     "text": [
      "<html><head><meta content=\"noindex, nofollow\" name=\"robots\"/><link href=\"https://www.zillowstatic.com/vstatic/80d5e73/static/css/z-pages/captcha.css\" media=\"screen\" rel=\"stylesheet\" type=\"text/css\"/><script>\n        window._pxAppId = 'PXHYx10rg3';\n        window._pxJsClientSrc = '/HYx10rg3/init.js';\n        window._pxHostUrl = '/HYx10rg3/xhr';\n        window._pxFirstPartyEnabled = true;\n        window._pxreCaptchaTheme='light';\n    </script><script src=\"https://captcha.px-cdn.net/PXHYx10rg3/captcha.js?a=c&amp;m=0\" type=\"text/javascript\"></script>\n<script>\n        function getQueryString(name, url) {\n            if (!url) url = window.location.href;\n            name = name.replace(/[\\[\\]]/g, \"\\\\$&\");\n            var regex = new RegExp(\"[?&]\" + name + \"(=([^&#]*)|&|#|$)\"),\n                results = regex.exec(url);\n            if (!results) return null;\n            if (!results[2]) return '';\n            return decodeURIComponent(results[2].replace(/\\+/g, \" \"));\n        }\n        document.addEventListener(\"DOMContentLoaded\", function(e) {\n            var uuidVerifyRegExp = /^\\{?[0-9a-fA-F]{8}-[0-9a-fA-F]{4}-[0-9a-fA-F]{4}-[0-9a-fA-F]{4}-[0-9a-fA-F]{12}\\}?$/i;\n            document.getElementById(\"uuid\").innerText = \"UUID: \" + uuidVerifyRegExp.exec(getQueryString(\"uuid\"));\n        });\n\n        function handleCaptcha(response) {\n            var vid = getQueryString(\"vid\"); // getQueryString is implemented below\n            var uuid = getQueryString(\"uuid\");\n            var name = '_pxCaptcha';\n            var cookieValue =  btoa(JSON.stringify({r:response,v:vid,u:uuid}));\n            var cookieParts = [name, '=', cookieValue, '; path=/'];\n            cookieParts.push('; domain=' + window.location.hostname);\n            cookieParts.push('; max-age=10');//expire after 10 seconds\n            document.cookie = cookieParts.join('');\n            var originalURL = getOriginalUrl(\"url\");\n            var originalHost = window.location.host;\n            var newHref = window.location.protocol + \"//\" + originalHost;\n            originalURL = originalURL || '/';\n            newHref = newHref + originalURL;\n            window.location.href = newHref;\n        }\n\n        function getOriginalUrl(name) {\n            var url = getQueryString(name);\n            if (!url) return null;\n            var regExMatcher = new RegExp(\"(([^&#@]*)|&|#|$)\");\n            var matches = regExMatcher.exec(url);\n            if (!matches) return null;\n            return matches[0];\n        }\n    </script></head><body><main class=\"zsg-layout-content\"><div class=\"error-content-block\"><div class=\"error-text-content\"><!-- <h1>Captcha</h1> --><h5>Please verify you're a human to continue.</h5><div class=\"captcha-container\" id=\"content\"><div data-callback=\"handleCaptcha\" id=\"px-captcha\"></div><img alt=\"Zillow\" height=\"14\" src=\"https://www.zillowstatic.com/static/logos/logo-65x14.png\" width=\"65\"/></div></div></div></main><h4 class=\"uuid-string zsg-fineprint\" id=\"uuid\"></h4></body></html><!-- H:033  T:2ms  S:2605  R:Fri Mar 12 19:10:21 PST 2021  B:5.0.66815-master.2720a28~qa.482978be -->\n"
     ]
    }
   ],
   "source": [
    "#Create Beautiful Soup Object\n",
    "soup = bs(response.content, 'html.parser')\n",
    "\n",
    "#Test print beautiful soup\n",
    "print(soup)       "
   ]
  },
  {
   "cell_type": "code",
   "execution_count": 10,
   "id": "subtle-character",
   "metadata": {},
   "outputs": [],
   "source": [
    "#Grab deck containing all listings on the page\n",
    "#deck = soup.find(attrs = {\"class\" : \"photo-cards photo-cards_wow photo-cards_short photo-cards_extra-attribution\"})\n",
    "#print(deck)"
   ]
  },
  {
   "cell_type": "code",
   "execution_count": 11,
   "id": "legendary-watts",
   "metadata": {},
   "outputs": [],
   "source": [
    "listing_data = []\n",
    "for card in soup.select(\".list-card-info\"):\n",
    "    data = card.get_text()\n",
    "    listing_data.append(data)\n",
    "    print(data)\n",
    "#print(listing_data)\n",
    "#print(len(listing_data))"
   ]
  },
  {
   "cell_type": "code",
   "execution_count": null,
   "id": "headed-assignment",
   "metadata": {},
   "outputs": [],
   "source": []
  }
 ],
 "metadata": {
  "kernelspec": {
   "name": "python3",
   "display_name": "Python 3.7.8 64-bit",
   "metadata": {
    "interpreter": {
     "hash": "57baa5815c940fdaff4d14510622de9616cae602444507ba5d0b6727c008cbd6"
    }
   }
  },
  "language_info": {
   "codemirror_mode": {
    "name": "ipython",
    "version": 3
   },
   "file_extension": ".py",
   "mimetype": "text/x-python",
   "name": "python",
   "nbconvert_exporter": "python",
   "pygments_lexer": "ipython3",
   "version": "3.7.8-final"
  }
 },
 "nbformat": 4,
 "nbformat_minor": 5
}