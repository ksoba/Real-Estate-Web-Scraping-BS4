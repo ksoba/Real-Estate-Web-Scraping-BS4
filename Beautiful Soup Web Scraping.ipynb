{
 "cells": [
  {
   "cell_type": "markdown",
   "id": "statutory-guest",
   "metadata": {},
   "source": [
    "# Beautiful Soup Web Scraping Assigment"
   ]
  },
  {
   "cell_type": "markdown",
   "id": "tribal-demographic",
   "metadata": {},
   "source": [
    "Import libraries and web link"
   ]
  },
  {
   "cell_type": "code",
   "execution_count": 2,
   "id": "premium-nancy",
   "metadata": {
    "scrolled": true
   },
   "outputs": [],
   "source": [
    "import seaborn\n",
    "from bs4 import BeautifulSoup\n",
    "import requests as rq\n",
    "import pandas as pd\n",
    "import matplotlib.pyplot as plt\n",
    "import numpy as np\n",
    "\n",
    "#Get website using Python requests and create Beautiful Soup object using BS4.\n",
    "webpage = rq.get(\"https://content.codecademy.com/courses/beautifulsoup/cacao/index.html\")\n",
    "soup = BeautifulSoup(webpage.content, \"html.parser\")"
   ]
  },
  {
   "cell_type": "markdown",
   "id": "electrical-democrat",
   "metadata": {},
   "source": [
    "Separate rating data"
   ]
  },
  {
   "cell_type": "code",
   "execution_count": 3,
   "id": "worth-concern",
   "metadata": {
    "scrolled": true
   },
   "outputs": [
    {
     "name": "stdout",
     "output_type": "stream",
     "text": [
      "[3.75, 2.75, 3.0, 3.5, 3.5, 2.75, 3.5, 3.5, 3.75, 4.0]\n"
     ]
    }
   ],
   "source": [
    "ratings_data = soup.find_all(attrs={\"class\": \"Rating\"})\n",
    "ratings = []\n",
    "for rating in ratings_data[1:]:\n",
    "  ratings.append(float(rating.string))\n",
    "#Sample of data\n",
    "print(ratings[:10])"
   ]
  },
  {
   "cell_type": "code",
   "execution_count": 4,
   "id": "peaceful-plate",
   "metadata": {
    "scrolled": true
   },
   "outputs": [
    {
     "data": {
      "image/png": "[encoded data removed]",
      "text/plain": [
       "<Figure size 432x288 with 1 Axes>"
      ]
     },
     "metadata": {
      "needs_background": "light"
     },
     "output_type": "display_data"
    }
   ],
   "source": [
    "plt.hist(ratings)\n",
    "plt.show()"
   ]
  },
  {
   "cell_type": "code",
   "execution_count": 7,
   "id": "usual-february",
   "metadata": {},
   "outputs": [],
   "source": [
    "#Selecting Companies with the highest ratings\n",
    "company_data = soup.select(\".Company\")\n",
    "companies = []\n",
    "for company in company_data[1:]:\n",
    "  companies.append(company.string)\n",
    "#print(companies)\n",
    "df_dict = {\"Company\": companies, \"Rating\": ratings}"
   ]
  },
  {
   "cell_type": "code",
   "execution_count": 11,
   "id": "exciting-virginia",
   "metadata": {},
   "outputs": [
    {
     "name": "stdout",
     "output_type": "stream",
     "text": [
      "[63, 70, 70, 70, 70, 70, 70, 70, 70, 70]\n"
     ]
    }
   ],
   "source": [
    "#Determining whether percentage of Cacao affects the ratings score\n",
    "cacao_percent = []\n",
    "cacao_data = soup.select(\".CocoaPercent\")\n",
    "#print(cacao_data)\n",
    "for cacao in cacao_data[1:]:\n",
    "  percent = int(float(cacao.get_text().strip(\"%\")))\n",
    "  cacao_percent.append(percent)\n",
    "\n",
    "#Sample data from percentage list\n",
    "print(cacao_percent[:10])\n",
    "#Adding column for Cacao percentage by adding to dictionary\n",
    "df_dict[\"CacaoPercentage\"] = cacao_percent\n",
    "\n",
    "\n"
   ]
  },
  {
   "cell_type": "code",
   "execution_count": 12,
   "id": "found-collins",
   "metadata": {},
   "outputs": [
    {
     "name": "stdout",
     "output_type": "stream",
     "text": [
      "Company\n",
      "Tobago Estate (Pralus)                  4.000000\n",
      "Heirloom Cacao Preservation (Zokoko)    3.875000\n",
      "Ocelot                                  3.875000\n",
      "Amedei                                  3.846154\n",
      "Matale                                  3.812500\n",
      "Patric                                  3.791667\n",
      "Idilio (Felchlin)                       3.775000\n",
      "Acalli                                  3.750000\n",
      "Chocola'te                              3.750000\n",
      "Christopher Morel (Felchlin)            3.750000\n",
      "Name: Rating, dtype: float64\n"
     ]
    },
    {
     "data": {
      "image/png": "[encoded data removed]",
      "text/plain": [
       "<Figure size 432x288 with 1 Axes>"
      ]
     },
     "metadata": {
      "needs_background": "light"
     },
     "output_type": "display_data"
    }
   ],
   "source": [
    "#Create Pandas data frame from dictionary\n",
    "df = pd.DataFrame.from_dict(df_dict)\n",
    "average_ratings = df.groupby(\"Company\").Rating.mean()\n",
    "top_ten = average_ratings.nlargest(10)\n",
    "print(top_ten)\n",
    "\n",
    "#Scatterplot for perecentage of Cacao to ratings, using NumPy to approximate line\n",
    "plt.clf()\n",
    "plt.scatter(df.CacaoPercentage, df.Rating)\n",
    "z = np.polyfit(df.CacaoPercentage, df.Rating, 1)\n",
    "line_function = np.poly1d(z)\n",
    "plt.plot(df.CacaoPercentage, line_function(df.CacaoPercentage), \"r--\")\n",
    "plt.show()"
   ]
  },
  {
   "cell_type": "code",
   "execution_count": null,
   "id": "useful-capture",
   "metadata": {},
   "outputs": [],
   "source": []
  }
 ],
 "metadata": {
  "kernelspec": {
   "display_name": "Python 3",
   "language": "python",
   "name": "python3"
  },
  "language_info": {
   "codemirror_mode": {
    "name": "ipython",
    "version": 3
   },
   "file_extension": ".py",
   "mimetype": "text/x-python",
   "name": "python",
   "nbconvert_exporter": "python",
   "pygments_lexer": "ipython3",
   "version": "3.7.8"
  }
 },
 "nbformat": 4,
 "nbformat_minor": 5
}
